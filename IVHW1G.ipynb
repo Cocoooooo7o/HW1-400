{
 "cells": [
  {
   "cell_type": "markdown",
   "metadata": {},
   "source": [
    "**MGMTMFE 400 Investment Homework 1**"
   ]
  },
  {
   "cell_type": "markdown",
   "metadata": {},
   "source": [
    "Problem 1"
   ]
  },
  {
   "cell_type": "code",
   "execution_count": 2,
   "metadata": {},
   "outputs": [
    {
     "name": "stdout",
     "output_type": "stream",
     "text": [
      "If 4% is an EAR, you will have $ 208000.0 in two years\n",
      "If 4% is an quaterly APR, you will have $ 208120.8 in two years\n",
      "If 4% is an monthly APR, you will have $ 208148.31 in two years\n"
     ]
    }
   ],
   "source": [
    "PV = 200000\n",
    "Interest_rate = 0.04\n",
    "\n",
    "FV_a = PV * (1 + Interest_rate)\n",
    "FV_b = PV * (1 + Interest_rate / 4) ** 4\n",
    "FV_c = PV * (1 + Interest_rate / 12) ** 12\n",
    "\n",
    "print(\"If 4% is an EAR, you will have $\", round(FV_a,2), \"in two years\")\n",
    "print(\"If 4% is an quaterly APR, you will have $\", round(FV_b,2), \"in two years\")\n",
    "print(\"If 4% is an monthly APR, you will have $\", round(FV_c,2), \"in two years\")\n"
   ]
  },
  {
   "cell_type": "markdown",
   "metadata": {},
   "source": [
    "Problem 2"
   ]
  },
  {
   "cell_type": "code",
   "execution_count": 3,
   "metadata": {},
   "outputs": [
    {
     "name": "stdout",
     "output_type": "stream",
     "text": [
      "You have saved $ 2339746.52 by the end of 35th year\n"
     ]
    }
   ],
   "source": [
    "Earned_Each_Year = 100000\n",
    "Save_Ratio = 0.45\n",
    "Interest = 0.02\n",
    "\n",
    "Saved_Amount_Each_Year = Earned_Each_Year * Save_Ratio\n",
    "\n",
    "Total_Amount_Saved = 0\n",
    "for i in range(36):\n",
    "    Total_Amount_Saved += Saved_Amount_Each_Year * (1 + 0.02) ** i\n",
    "    \n",
    "print(\"You have saved $\",round(Total_Amount_Saved,2), \"by the end of 35th year\")\n",
    "\n",
    "\n"
   ]
  },
  {
   "cell_type": "markdown",
   "metadata": {},
   "source": [
    "Problem 3"
   ]
  },
  {
   "cell_type": "code",
   "execution_count": 4,
   "metadata": {},
   "outputs": [
    {
     "name": "stdout",
     "output_type": "stream",
     "text": [
      "The Effective Annual Rate is 3.04 %\n",
      "The monthly payment is $ 25646.98\n",
      "You own bank $ 218310.26 immediately after the 20th payment\n"
     ]
    }
   ],
   "source": [
    "Mortgage = 500000\n",
    "Monthly_APR = 0.03\n",
    "n = 30\n",
    "\n",
    "EAR = (1 + (Monthly_APR / 12)) ** 12 - 1\n",
    "\n",
    "Monthly_Payment = (EAR * Mortgage) / (1 - (1 + EAR) ** (-1 * n))\n",
    "\n",
    "Remaining_Balence = (Monthly_Payment * (1 - ((1 + EAR) ** -10))) / EAR\n",
    "\n",
    "print(\"The Effective Annual Rate is\", round(EAR*100, 2), \"%\")\n",
    "print(\"The monthly payment is $\", round(Monthly_Payment,2)) \n",
    "print(\"You own bank $\", round(Remaining_Balence,2), \"immediately after the 20th payment\")\n"
   ]
  },
  {
   "cell_type": "markdown",
   "metadata": {},
   "source": [
    "Problem 4"
   ]
  },
  {
   "cell_type": "code",
   "execution_count": 5,
   "metadata": {},
   "outputs": [
    {
     "name": "stdout",
     "output_type": "stream",
     "text": [
      "Price of zero-coupon bond with 3 years to maturity is $ 91.51\n",
      "Price of a bond with coupon rate 1% and two years to maturity is $ 97.11\n",
      "Price of a bond with coupon rate 13% and four years to maturity is $ 135.49\n"
     ]
    }
   ],
   "source": [
    "Face_value = 100\n",
    "r_1 = 0.02\n",
    "r_2 = 0.025\n",
    "r_3 = 0.03\n",
    "r_4 = 0.035\n",
    "Coupon_Rate1 = 0.01\n",
    "Coupon_Rate2 = 0.13\n",
    "\n",
    "d_1 = 1 / (1 + r_1)\n",
    "d_2 = 1 / ((1 + r_2) ** 2)\n",
    "d_3 = 1 / ((1 + r_3) ** 3)\n",
    "d_4 = 1 / ((1 + r_4) ** 4)\n",
    "\n",
    "C_1 = Coupon_Rate1 * Face_value\n",
    "C_2 = Coupon_Rate2 * Face_value\n",
    "\n",
    "Price_ZeroCoupon_Bond =  Face_value * d_3\n",
    "Price_Coupon_Bond1 = C_1 * d_1 + (C_1 + Face_value) * d_2\n",
    "Price_Coupon_Bond2 = C_2 * d_1 + C_2 * d_2 + C_2 * d_3 + (C_2 + Face_value) * d_4\n",
    "\n",
    "print(\"Price of zero-coupon bond with 3 years to maturity is $\", round(Price_ZeroCoupon_Bond,2))\n",
    "print(\"Price of a bond with coupon rate 1% and two years to maturity is $\",round(Price_Coupon_Bond1,2))\n",
    "print(\"Price of a bond with coupon rate 13% and four years to maturity is $\",round(Price_Coupon_Bond2,2))\n"
   ]
  },
  {
   "cell_type": "markdown",
   "metadata": {},
   "source": [
    "Problem 5"
   ]
  },
  {
   "cell_type": "code",
   "execution_count": null,
   "metadata": {},
   "outputs": [],
   "source": []
  },
  {
   "cell_type": "markdown",
   "metadata": {},
   "source": [
    "Problem 6"
   ]
  },
  {
   "cell_type": "code",
   "execution_count": 6,
   "metadata": {},
   "outputs": [
    {
     "ename": "ModuleNotFoundError",
     "evalue": "No module named 'sympy'",
     "output_type": "error",
     "traceback": [
      "\u001b[0;31m---------------------------------------------------------------------------\u001b[0m",
      "\u001b[0;31mModuleNotFoundError\u001b[0m                       Traceback (most recent call last)",
      "\u001b[1;32m/Users/yueqiguo/Desktop/IVHW1G.ipynb Cell 13\u001b[0m line \u001b[0;36m1\n\u001b[0;32m----> <a href='vscode-notebook-cell:/Users/yueqiguo/Desktop/IVHW1G.ipynb#X15sZmlsZQ%3D%3D?line=0'>1</a>\u001b[0m \u001b[39mfrom\u001b[39;00m \u001b[39msympy\u001b[39;00m \u001b[39mimport\u001b[39;00m symbols, Eq, solve\n\u001b[1;32m      <a href='vscode-notebook-cell:/Users/yueqiguo/Desktop/IVHW1G.ipynb#X15sZmlsZQ%3D%3D?line=2'>3</a>\u001b[0m Coupon_Rate \u001b[39m=\u001b[39m \u001b[39m0.05\u001b[39m\n\u001b[1;32m      <a href='vscode-notebook-cell:/Users/yueqiguo/Desktop/IVHW1G.ipynb#X15sZmlsZQ%3D%3D?line=3'>4</a>\u001b[0m Face_Value \u001b[39m=\u001b[39m \u001b[39m100\u001b[39m\n",
      "\u001b[0;31mModuleNotFoundError\u001b[0m: No module named 'sympy'"
     ]
    }
   ],
   "source": [
    "from sympy import symbols, Eq, solve\n",
    "\n",
    "Coupon_Rate = 0.05\n",
    "Face_Value = 100\n",
    "spr_1 = 0.05\n",
    "spr_2 = 0.06\n",
    "spr_3 = 0.07\n",
    "\n",
    "d_1 = 1 / (1 + spr_1)\n",
    "d_2 = 1 / ((1 + spr_2) ** 2)\n",
    "d_3 = 1 / ((1 + spr_3) ** 3)\n",
    "\n",
    "C = Coupon_Rate * Face_Value\n",
    "\n",
    "Bond_Price = C * d_1 + C * d_2 + (C + Face_Value) * d_3\n",
    "\n",
    "y = symbols('x')\n",
    "eq1 = Eq (C / (1 + y) + C / ((1 + y) ** 2) + (C + Face_Value) / ((1 + y) ** 3) - Bond_Price)\n",
    "sol = solve(eq1)\n",
    "\n",
    "print(Bond_Price)\n",
    "print(sol)"
   ]
  }
 ],
 "metadata": {
  "kernelspec": {
   "display_name": "Python 3",
   "language": "python",
   "name": "python3"
  },
  "language_info": {
   "codemirror_mode": {
    "name": "ipython",
    "version": 3
   },
   "file_extension": ".py",
   "mimetype": "text/x-python",
   "name": "python",
   "nbconvert_exporter": "python",
   "pygments_lexer": "ipython3",
   "version": "3.9.6"
  },
  "orig_nbformat": 4
 },
 "nbformat": 4,
 "nbformat_minor": 2
}
